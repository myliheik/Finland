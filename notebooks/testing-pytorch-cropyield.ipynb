{
 "cells": [
  {
   "cell_type": "code",
   "execution_count": 48,
   "id": "5d663879-044c-454a-9cbc-f6ab5d0fae8b",
   "metadata": {},
   "outputs": [],
   "source": [
    "\"\"\"\n",
    "2025-09-02 MY\n",
    "\n",
    "PyTorch-TCN: https://github.com/paul-krug/pytorch-tcn/tree/main\n",
    "\n",
    "#pip install --user pytorch-tcn\n",
    "\n",
    "\n",
    "\"\"\"\n",
    "\n",
    "import numpy as np\n",
    "from pytorch_tcn import TCN\n",
    "import pandas as pd\n",
    "#import xarray as xr\n",
    "import matplotlib.pyplot as plt\n",
    "#import re"
   ]
  },
  {
   "cell_type": "code",
   "execution_count": 26,
   "id": "5f08cb21",
   "metadata": {},
   "outputs": [],
   "source": [
    "fp = '/scratch/project_2009889/UN-EO-data/finland-data-v2/data/2024-06-15_2024-06-30_p1d/metrics-numpy/samples-wide-complete.columns.csv'\n",
    "samples_wide_complete_columns = pd.read_csv(fp).columns.tolist()\n",
    "\n",
    "\n",
    "fp = '/scratch/project_2009889/UN-EO-data/finland-data-v2/data/2024-06-15_2024-06-30_p1d/metrics-numpy/samples-wide-complete.npz'\n",
    "samples_wide_complete = np.load(fp)"
   ]
  },
  {
   "cell_type": "code",
   "execution_count": 27,
   "id": "9b49f2b6",
   "metadata": {},
   "outputs": [],
   "source": [
    "# take only bin variables:\n",
    "chosen_idx = [n for n, x in enumerate(samples_wide_complete_columns) if 'bin' in x]\n",
    "\n",
    "# take statistical variables:\n",
    "#chosen_idx2 = [i for i, item in enumerate(samples_wide_complete_columns) if item.endswith(('sd', 'mean', 'median'))]"
   ]
  },
  {
   "cell_type": "code",
   "execution_count": 34,
   "id": "03b20f29",
   "metadata": {},
   "outputs": [],
   "source": [
    "# this is needed to get the labels and dates rights:\n",
    "df = pd.read_parquet('/scratch/project_2009889/UN-EO-data/finland-data-v2/data/2024-06-15_2024-06-30_p1d/metrics-parquet/samples-wide-complete.parquet')\n",
    "\n",
    "# prepare y:\n",
    "# preserves the order of labels:\n",
    "itemID = df['label'].drop_duplicates() \n",
    "\n",
    "# read y:\n",
    "dfy = pd.read_csv('/scratch/project_2009889/UN-EO-data/wheatFields2024_y.csv')\n",
    "\n",
    "#reorder y:\n",
    "dfyreordered = dfy.set_index('parcelID').reindex(itemID)#.reset_index()"
   ]
  },
  {
   "cell_type": "code",
   "execution_count": null,
   "id": "8fc55191-148d-4eb7-935b-7113326fcce6",
   "metadata": {},
   "outputs": [],
   "source": []
  },
  {
   "cell_type": "code",
   "execution_count": null,
   "id": "52001896-c84e-4a78-901e-14d2c069c8eb",
   "metadata": {},
   "outputs": [],
   "source": []
  },
  {
   "cell_type": "code",
   "execution_count": 24,
   "id": "4ce53180",
   "metadata": {},
   "outputs": [
    {
     "data": {
      "text/plain": [
       "(402, 14, 160)"
      ]
     },
     "execution_count": 24,
     "metadata": {},
     "output_type": "execute_result"
    }
   ],
   "source": [
    "databins = samples_wide_complete[:, chosen_idx[0]:]\n",
    "# reshape into 3D (observations, times, features):\n",
    "nrobs = len(set(df['label']))\n",
    "times = len(df['Index'].unique())\n",
    "data3Dbins = np.reshape(databins, (nrobs, times, -1))\n",
    "data3Dbins.shape\n",
    "\n",
    "#datastat = samples_wide_complete[:, chosen_idx2[0]:chosen_idx2[-1]]\n",
    "#nrobs = len(set(df['label']))\n",
    "#times = len(df['Index'].unique())\n",
    "#data3Dstat = np.reshape(datastat, (nrobs, times, -1))\n",
    "#data3Dstat.shape\n",
    "\n",
    "data3Dbins.shape#, data3Dstat.shape"
   ]
  },
  {
   "cell_type": "code",
   "execution_count": 14,
   "id": "7254c26d",
   "metadata": {},
   "outputs": [
    {
     "data": {
      "text/plain": [
       "(402, 14, 5, 32)"
      ]
     },
     "execution_count": 14,
     "metadata": {},
     "output_type": "execute_result"
    }
   ],
   "source": [
    "# Normalization of bin data:\n",
    "def _l1_normalization(a):\n",
    "    return (np.nan_to_num(a/a.sum()))\n",
    "\n",
    "nrbins = 32\n",
    "nrbands = int(data3Dbins.shape[2]/nrbins)\n",
    "\n",
    "xtrain4d = data3Dbins.reshape(data3Dbins.shape[0], data3Dbins.shape[1], nrbands, -1)  \n",
    "xtrain4d.shape # (observations, times, features, bins)"
   ]
  },
  {
   "cell_type": "code",
   "execution_count": 16,
   "id": "e01cc9ad",
   "metadata": {},
   "outputs": [],
   "source": [
    "# data normalized along the bin axis:\n",
    "normalized = np.apply_along_axis(_l1_normalization, 3, xtrain4d)"
   ]
  },
  {
   "cell_type": "code",
   "execution_count": 18,
   "id": "bb698443",
   "metadata": {},
   "outputs": [
    {
     "data": {
      "text/plain": [
       "(402, 14, 5, 32)"
      ]
     },
     "execution_count": 18,
     "metadata": {},
     "output_type": "execute_result"
    }
   ],
   "source": [
    "normalized.shape"
   ]
  },
  {
   "cell_type": "code",
   "execution_count": 19,
   "id": "196ea31e",
   "metadata": {},
   "outputs": [
    {
     "data": {
      "text/plain": [
       "(402, 14, 160)"
      ]
     },
     "execution_count": 19,
     "metadata": {},
     "output_type": "execute_result"
    }
   ],
   "source": [
    "# back to 3D:\n",
    "m,n = normalized.shape[:2]\n",
    "normalized3D = normalized.reshape(m,n,-1) \n",
    "normalized3D.shape"
   ]
  },
  {
   "cell_type": "code",
   "execution_count": 39,
   "id": "47634d1b",
   "metadata": {},
   "outputs": [
    {
     "data": {
      "text/plain": [
       "(402,)"
      ]
     },
     "execution_count": 39,
     "metadata": {},
     "output_type": "execute_result"
    }
   ],
   "source": [
    "y = dfyreordered['y'].values\n",
    "y.shape"
   ]
  },
  {
   "cell_type": "code",
   "execution_count": 43,
   "id": "07861d83-1b0e-4dd9-94cf-e25aeb3ed2c7",
   "metadata": {},
   "outputs": [],
   "source": [
    "# Run TCN:\n",
    "\n",
    "# in Keras:\n",
    "#model = TCN(xtrain3d.shape[1], xtrain3d.shape[2], nbfilters, kernelsize, dilations)\n",
    "\n",
    "# in PyTorch:\n",
    "model = TCN(num_inputs = normalized3D.shape[2], num_channels = [32, 32, 32, 32], kernel_size = 2, dilations = [1, 2, 4, 8], input_shape = 'NLC', causal = True)"
   ]
  },
  {
   "cell_type": "code",
   "execution_count": 46,
   "id": "c4212378-51e1-456d-b903-d6c8aa919b85",
   "metadata": {},
   "outputs": [
    {
     "name": "stdout",
     "output_type": "stream",
     "text": [
      "TCN(\n",
      "  (network): ModuleList(\n",
      "    (0): TemporalBlock(\n",
      "      (conv1): ParametrizedTemporalConv1d(\n",
      "        160, 32, kernel_size=(2,), stride=(1,)\n",
      "        (padder): TemporalPad1d(\n",
      "          (pad): ConstantPad1d(padding=(1, 0), value=0.0)\n",
      "        )\n",
      "        (parametrizations): ModuleDict(\n",
      "          (weight): ParametrizationList(\n",
      "            (0): _WeightNorm()\n",
      "          )\n",
      "        )\n",
      "      )\n",
      "      (conv2): ParametrizedTemporalConv1d(\n",
      "        32, 32, kernel_size=(2,), stride=(1,)\n",
      "        (padder): TemporalPad1d(\n",
      "          (pad): ConstantPad1d(padding=(1, 0), value=0.0)\n",
      "        )\n",
      "        (parametrizations): ModuleDict(\n",
      "          (weight): ParametrizationList(\n",
      "            (0): _WeightNorm()\n",
      "          )\n",
      "        )\n",
      "      )\n",
      "      (activation1): ReLU()\n",
      "      (activation2): ReLU()\n",
      "      (activation_final): ReLU()\n",
      "      (dropout1): Dropout(p=0.1, inplace=False)\n",
      "      (dropout2): Dropout(p=0.1, inplace=False)\n",
      "      (downsample): Conv1d(160, 32, kernel_size=(1,), stride=(1,))\n",
      "    )\n",
      "    (1): TemporalBlock(\n",
      "      (conv1): ParametrizedTemporalConv1d(\n",
      "        32, 32, kernel_size=(2,), stride=(1,), dilation=(2,)\n",
      "        (padder): TemporalPad1d(\n",
      "          (pad): ConstantPad1d(padding=(2, 0), value=0.0)\n",
      "        )\n",
      "        (parametrizations): ModuleDict(\n",
      "          (weight): ParametrizationList(\n",
      "            (0): _WeightNorm()\n",
      "          )\n",
      "        )\n",
      "      )\n",
      "      (conv2): ParametrizedTemporalConv1d(\n",
      "        32, 32, kernel_size=(2,), stride=(1,), dilation=(2,)\n",
      "        (padder): TemporalPad1d(\n",
      "          (pad): ConstantPad1d(padding=(2, 0), value=0.0)\n",
      "        )\n",
      "        (parametrizations): ModuleDict(\n",
      "          (weight): ParametrizationList(\n",
      "            (0): _WeightNorm()\n",
      "          )\n",
      "        )\n",
      "      )\n",
      "      (activation1): ReLU()\n",
      "      (activation2): ReLU()\n",
      "      (activation_final): ReLU()\n",
      "      (dropout1): Dropout(p=0.1, inplace=False)\n",
      "      (dropout2): Dropout(p=0.1, inplace=False)\n",
      "    )\n",
      "    (2): TemporalBlock(\n",
      "      (conv1): ParametrizedTemporalConv1d(\n",
      "        32, 32, kernel_size=(2,), stride=(1,), dilation=(4,)\n",
      "        (padder): TemporalPad1d(\n",
      "          (pad): ConstantPad1d(padding=(4, 0), value=0.0)\n",
      "        )\n",
      "        (parametrizations): ModuleDict(\n",
      "          (weight): ParametrizationList(\n",
      "            (0): _WeightNorm()\n",
      "          )\n",
      "        )\n",
      "      )\n",
      "      (conv2): ParametrizedTemporalConv1d(\n",
      "        32, 32, kernel_size=(2,), stride=(1,), dilation=(4,)\n",
      "        (padder): TemporalPad1d(\n",
      "          (pad): ConstantPad1d(padding=(4, 0), value=0.0)\n",
      "        )\n",
      "        (parametrizations): ModuleDict(\n",
      "          (weight): ParametrizationList(\n",
      "            (0): _WeightNorm()\n",
      "          )\n",
      "        )\n",
      "      )\n",
      "      (activation1): ReLU()\n",
      "      (activation2): ReLU()\n",
      "      (activation_final): ReLU()\n",
      "      (dropout1): Dropout(p=0.1, inplace=False)\n",
      "      (dropout2): Dropout(p=0.1, inplace=False)\n",
      "    )\n",
      "    (3): TemporalBlock(\n",
      "      (conv1): ParametrizedTemporalConv1d(\n",
      "        32, 32, kernel_size=(2,), stride=(1,), dilation=(8,)\n",
      "        (padder): TemporalPad1d(\n",
      "          (pad): ConstantPad1d(padding=(8, 0), value=0.0)\n",
      "        )\n",
      "        (parametrizations): ModuleDict(\n",
      "          (weight): ParametrizationList(\n",
      "            (0): _WeightNorm()\n",
      "          )\n",
      "        )\n",
      "      )\n",
      "      (conv2): ParametrizedTemporalConv1d(\n",
      "        32, 32, kernel_size=(2,), stride=(1,), dilation=(8,)\n",
      "        (padder): TemporalPad1d(\n",
      "          (pad): ConstantPad1d(padding=(8, 0), value=0.0)\n",
      "        )\n",
      "        (parametrizations): ModuleDict(\n",
      "          (weight): ParametrizationList(\n",
      "            (0): _WeightNorm()\n",
      "          )\n",
      "        )\n",
      "      )\n",
      "      (activation1): ReLU()\n",
      "      (activation2): ReLU()\n",
      "      (activation_final): ReLU()\n",
      "      (dropout1): Dropout(p=0.1, inplace=False)\n",
      "      (dropout2): Dropout(p=0.1, inplace=False)\n",
      "    )\n",
      "  )\n",
      ")\n"
     ]
    }
   ],
   "source": [
    "print(model)"
   ]
  }
 ],
 "metadata": {
  "kernelspec": {
   "display_name": "Python 3 (ipykernel)",
   "language": "python",
   "name": "python3"
  },
  "language_info": {
   "codemirror_mode": {
    "name": "ipython",
    "version": 3
   },
   "file_extension": ".py",
   "mimetype": "text/x-python",
   "name": "python",
   "nbconvert_exporter": "python",
   "pygments_lexer": "ipython3",
   "version": "3.12.10"
  }
 },
 "nbformat": 4,
 "nbformat_minor": 5
}
